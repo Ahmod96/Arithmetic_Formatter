{
 "cells": [
  {
   "cell_type": "code",
   "execution_count": 1,
   "id": "7fc2f457",
   "metadata": {
    "scrolled": true
   },
   "outputs": [],
   "source": [
    "def arithmetic_arranger(problems, answers=False):\n",
    "    if len(problems) > 5:\n",
    "        return ('Error: Too many problems.')\n",
    "    \n",
    "    line1 = ''\n",
    "    line2 = ''\n",
    "    line3 = ''\n",
    "    line4 = ''\n",
    "    for problem in problems:\n",
    "        s = problem.split()\n",
    "        if s[1] == '/' or s[1] == '*':\n",
    "            return \"Error: Operator must be '+' or '-'.\"\n",
    "        if s[0].isdigit() == False or s[2].isdigit() == False:\n",
    "            return (\"Error: Numbers must only contain digits.\")\n",
    "        if len(s[0]) > 4 or len(s[2]) > 4:\n",
    "            return \"Error: Numbers cannot be more than four digits.\"\n",
    "        if len(s[0]) > len(s[2]):\n",
    "            l = (len(s[0])+1) - len(s[2])\n",
    "            line1 = line1 + (' '*2 + s[0]) + ' '*4\n",
    "            line2= line2+ (s[1] + ' '*l + s[2]) + ' '*4\n",
    "            line3= line3+ ('-'*(len(s[0])+2)) + ' '*4\n",
    "            if s[1] == '+':\n",
    "                cal = str(int(s[0]) + int(s[2]))\n",
    "                line4= line4+ (' '*((len(s[0])+2) - len(cal))) + cal + ' '*4\n",
    "            else:\n",
    "                cal = str(int(s[0]) - int(s[2]))\n",
    "                line4= line4+ (' '*((len(s[0])+2) - len(cal))) + cal + ' '*4\n",
    "                    \n",
    "           \n",
    "        elif len(s[0]) < len(s[2]):\n",
    "            l = (len(s[2])+2) - len(s[0])\n",
    "            line1 = line1 + (' '*l + s[0]) + ' '*4 \n",
    "            line2= line2+ (s[1] + ' ' + s[2]) + ' '*4\n",
    "            line3= line3+ ('-'*(len(s[2])+2)) + ' '*4\n",
    "            if s[1] == '+':\n",
    "                cal = str(int(s[0]) + int(s[2]))\n",
    "                line4= line4+ (' '*((len(s[2])+2)-len(cal))) + cal + ' '*4\n",
    "            else:\n",
    "                cal = str(int(s[0]) - int(s[2]))\n",
    "                line4= line4+ (' '*((len(s[2])+2)-len(cal))) + cal + ' '*4\n",
    "                \n",
    "        else:\n",
    "            line1 = line1 + (' '*2 + s[0]) + ' '*4\n",
    "            line2= line2+ (s[1] + ' ' + s[2]) + ' '*4\n",
    "            line3= line3+ ('-'*(len(s[2])+2)) + ' '*4\n",
    "            if s[1] == '+':\n",
    "                cal = str(int(s[0]) + int(s[2]))\n",
    "                line4= line4+ (' '*((len(s[2])+2) - len(cal))) + cal + ' '*4    \n",
    "            else:\n",
    "                cal == str(int(s[0]) - int(s[2]))\n",
    "                line4= line4+ (' '*((len(s[2])+2) - len(cal))) + cal + ' '*4\n",
    "    \n",
    "\n",
    "    if answers == False:\n",
    "        arranged_problems = line1.rstrip() + '\\n' + line2.rstrip() + '\\n' + line3.rstrip()\n",
    "    else:\n",
    "        arranged_problems = line1.rstrip() + '\\n' + line2.rstrip() + '\\n' + line3.rstrip() + '\\n' + line4.rstrip()\n",
    "    \n",
    "    return arranged_problems\n"
   ]
  },
  {
   "cell_type": "code",
   "execution_count": 2,
   "id": "c3c5121d",
   "metadata": {
    "scrolled": true
   },
   "outputs": [
    {
     "name": "stdout",
     "output_type": "stream",
     "text": [
      "    3      988\n",
      "+ 855    +  40\n",
      "-----    -----\n",
      "  858     1028\n"
     ]
    }
   ],
   "source": [
    "print(arithmetic_arranger([\"3 + 855\", \"988 + 40\"], True))"
   ]
  },
  {
   "cell_type": "code",
   "execution_count": null,
   "id": "dcfcb9b1",
   "metadata": {},
   "outputs": [],
   "source": [
    "https://replit.com/@Ahmod/boilerplate-arithmetic-formatter-2#arithmetic_arranger.py"
   ]
  }
 ],
 "metadata": {
  "kernelspec": {
   "display_name": "Python 3 (ipykernel)",
   "language": "python",
   "name": "python3"
  },
  "language_info": {
   "codemirror_mode": {
    "name": "ipython",
    "version": 3
   },
   "file_extension": ".py",
   "mimetype": "text/x-python",
   "name": "python",
   "nbconvert_exporter": "python",
   "pygments_lexer": "ipython3",
   "version": "3.9.12"
  }
 },
 "nbformat": 4,
 "nbformat_minor": 5
}
